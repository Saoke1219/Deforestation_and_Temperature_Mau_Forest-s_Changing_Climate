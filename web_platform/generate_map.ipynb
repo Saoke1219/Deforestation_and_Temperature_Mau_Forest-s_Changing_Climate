{
 "cells": [
  {
   "cell_type": "code",
   "execution_count": null,
   "id": "06aad124",
   "metadata": {},
   "outputs": [],
   "source": []
  },
  {
   "cell_type": "code",
   "execution_count": 3,
   "id": "6e155d48",
   "metadata": {},
   "outputs": [],
   "source": [
    "import folium\n",
    "\n",
    "def create_map():\n",
    "    # Create a map centered on Kenya\n",
    "    m = folium.Map(location=[0.0236, 37.9062], zoom_start=6)\n",
    "    \n",
    "    # Define the forests and their coordinates\n",
    "    forests = [\n",
    "        {\"name\": \"Kakamega Forest\", \"location\": [0.2827, 34.7519]},\n",
    "        {\"name\": \"Mau Forest\", \"location\": [-0.5257, 35.6046]},\n",
    "        {\"name\": \"Aberdare Forest\", \"location\": [-0.4167, 36.6833]},\n",
    "        {\"name\": \"Mt. Kenya Forest\", \"location\": [0.1521, 37.3084]}\n",
    "    ]\n",
    "    \n",
    "    # Add markers for each forest\n",
    "    for forest in forests:\n",
    "        folium.Marker(\n",
    "            location=forest[\"location\"],\n",
    "            popup=forest[\"name\"],\n",
    "            icon=folium.Icon(icon=\"tree-conifer\", prefix=\"glyphicon\")\n",
    "        ).add_to(m)\n",
    "    \n",
    "    # Save the map as an HTML file\n",
    "    m.save(\"kenya_forests_map.html\")\n",
    "\n",
    "# Generate the map\n",
    "create_map()\n"
   ]
  },
  {
   "cell_type": "code",
   "execution_count": null,
   "id": "19ccea07",
   "metadata": {},
   "outputs": [],
   "source": []
  }
 ],
 "metadata": {
  "kernelspec": {
   "display_name": "Python (learn-env)",
   "language": "python",
   "name": "learn-env"
  },
  "language_info": {
   "codemirror_mode": {
    "name": "ipython",
    "version": 3
   },
   "file_extension": ".py",
   "mimetype": "text/x-python",
   "name": "python",
   "nbconvert_exporter": "python",
   "pygments_lexer": "ipython3",
   "version": "3.8.12"
  }
 },
 "nbformat": 4,
 "nbformat_minor": 5
}
